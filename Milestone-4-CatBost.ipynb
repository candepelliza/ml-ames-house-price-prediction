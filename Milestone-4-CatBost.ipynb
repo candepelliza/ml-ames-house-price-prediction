{
 "cells": [
  {
   "cell_type": "markdown",
   "metadata": {},
   "source": [
    "# Milestone 4 - Additional Algorithm: CatBoost\n",
    "\n",
    "This notebook corresponds to the fourth and final stage of the Machine Learning final project, as part of the Copernicus Master in Digital Earth, in the Data Science track at University of South Brittany, Vannes, France by Candela Sol PELLIZA & Rajeswari PARASA.\n",
    "\n",
    "In this milestone we present a new algorithm, CatBoost...\n",
    "### COMPLETE INTRO\n"
   ]
  },
  {
   "cell_type": "markdown",
   "metadata": {},
   "source": [
    "## 1. Presenting the new algorithm: CatBoost"
   ]
  },
  {
   "cell_type": "markdown",
   "metadata": {},
   "source": [
    "### 1.a. Literal Description\n",
    "For this final step of the project we introduce the CatBoost algorithm as a promising technique for predicting house prices. \n",
    "# COMPLETE"
   ]
  },
  {
   "cell_type": "markdown",
   "metadata": {},
   "source": [
    "### 1.b. Hyperparameters\n",
    "# COMPLETE"
   ]
  },
  {
   "cell_type": "markdown",
   "metadata": {},
   "source": [
    "## 2. Data Loading and Preprocessing"
   ]
  },
  {
   "cell_type": "code",
   "execution_count": null,
   "metadata": {},
   "outputs": [],
   "source": []
  },
  {
   "cell_type": "markdown",
   "metadata": {},
   "source": [
    "# References\n",
    "- Notebook GitHub: https://github.com/anantgupta129/CatBoost-in-Python-ML/tree/master\n",
    "- Catboost paper: https://arxiv.org/pdf/1706.09516.pdf\n",
    "- Catboost paper 2: http://learningsys.org/nips17/assets/papers/paper_11.pdf\n",
    "- Catboost library website: https://catboost.ai/\n"
   ]
  },
  {
   "cell_type": "markdown",
   "metadata": {},
   "source": []
  }
 ],
 "metadata": {
  "language_info": {
   "name": "python"
  }
 },
 "nbformat": 4,
 "nbformat_minor": 2
}
