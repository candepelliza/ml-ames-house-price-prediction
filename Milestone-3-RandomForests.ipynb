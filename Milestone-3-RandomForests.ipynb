{
 "cells": [
  {
   "cell_type": "markdown",
   "metadata": {},
   "source": [
    "# Milestone - Random Forets"
   ]
  },
  {
   "cell_type": "markdown",
   "metadata": {},
   "source": [
    "## Part 1 - Feedback responses (only if required)"
   ]
  },
  {
   "cell_type": "markdown",
   "metadata": {},
   "source": [
    "## Part 2 - Milestone 3"
   ]
  },
  {
   "cell_type": "markdown",
   "metadata": {},
   "source": [
    "### 1. Data importing"
   ]
  },
  {
   "cell_type": "code",
   "execution_count": 1,
   "metadata": {},
   "outputs": [],
   "source": [
    "# Loading libraries\n",
    "import pandas as pd\n",
    "import numpy as np\n",
    "import matplotlib.pyplot as plt\n",
    "from sklearn.ensemble import RandomForestRegressor\n",
    "from sklearn.model_selection import GridSearchCV\n",
    "from sklearn.inspection import permutation_importance\n",
    "import warnings"
   ]
  },
  {
   "cell_type": "markdown",
   "metadata": {},
   "source": [
    "The first step consists on importing the csv fieles for train and test dataset, as they were already divided in the previous preprocessing steps."
   ]
  },
  {
   "cell_type": "code",
   "execution_count": 2,
   "metadata": {},
   "outputs": [],
   "source": [
    "# Import train and test datasets in csv format\n",
    "data_train = pd.read_csv('OpenData/ames_train_clean.csv')\n",
    "data_test = pd.read_csv('OpenData/ames_test_clean.csv')"
   ]
  },
  {
   "cell_type": "markdown",
   "metadata": {},
   "source": [
    "As a second step, we will connvert the train and test datasets into NumPy arrays, extracting also the variables' names as an independent vector."
   ]
  },
  {
   "cell_type": "code",
   "execution_count": 3,
   "metadata": {},
   "outputs": [],
   "source": [
    "# Creating numpy arrays for X and Y\n",
    "X_train = data_train.drop(columns = ['PID', 'SoldPrice']).values\n",
    "X_test = data_test.drop(columns = ['PID', 'SoldPrice']).values\n",
    "X_names = data_train.drop(columns = ['PID', 'SoldPrice']).columns.tolist()\n",
    "\n",
    "Y_train = data_train['SoldPrice'].values.reshape(-1,1)\n",
    "Y_test = data_test['SoldPrice'].values.reshape(-1,1)"
   ]
  },
  {
   "cell_type": "code",
   "execution_count": 3,
   "metadata": {},
   "outputs": [],
   "source": [
    "# Creating train and test dataframes\n",
    "X_train = data_train.drop(columns = ['PID', 'SoldPrice'])\n",
    "X_test = data_test.drop(columns = ['PID', 'SoldPrice'])\n",
    "X_names = data_train.drop(columns = ['PID', 'SoldPrice']).columns.tolist()\n",
    "\n",
    "Y_train = data_train['SoldPrice']\n",
    "Y_test = data_test['SoldPrice']"
   ]
  },
  {
   "cell_type": "markdown",
   "metadata": {},
   "source": [
    "### 2. Hyperparameter tuning\n",
    "In this notebook, we will apply a random forest model to predict the properties' sold price, as we did previously with the linear regression models. For this, as we have a regression problem, we will use the scikit function `RandomForestRegressor()`\n",
    "\n",
    "The random forest model requires tuning two main parameters:\n",
    "\n",
    "- **`n_estimators`:** number of trees in the forest\n",
    "- **`max_features`:** number of features to take into account when looking for the best split\n",
    "\n",
    "The tuning will be done in two steps: \n",
    "\n",
    "First we will tune the `n_estimators` parameter, with `max_features=None.`\n",
    "Once we have found the `n_estimators` optimal parameter, we will tune `max_features` using `gridsearchCV` to find the value that gives the best performance. \n",
    "Finally we will check again the `n_estimators` parameter, with the newly defined `max_features`, to see if an adjustment is necessary."
   ]
  },
  {
   "cell_type": "markdown",
   "metadata": {},
   "source": [
    "#### 2.1. Tuning `n_estimators`\n",
    "We will first tune the `n_estimators` paramater. For this step, `max_features` is set to None, which will consider the total number of variables. \n",
    "\n",
    "We will calculate the OOB error for random forest models with different numbers of trees, from a minimum of 100 to a maximum of 1500 in steps of 50. Finally, the OOB error will be plotted for each n_estimators tested value for visually inspecting at which value the error stabilizes."
   ]
  },
  {
   "cell_type": "code",
   "execution_count": 7,
   "metadata": {},
   "outputs": [
    {
     "name": "stderr",
     "output_type": "stream",
     "text": [
      "d:\\Programs\\anaconda3\\Lib\\site-packages\\sklearn\\ensemble\\_forest.py:578: UserWarning: Some inputs do not have OOB scores. This probably means too few trees were used to compute any reliable OOB estimates.\n",
      "  warn(\n"
     ]
    },
    {
     "data": {
      "image/png": "[encoded data removed]",
      "text/plain": [
       "<Figure size 640x480 with 1 Axes>"
      ]
     },
     "metadata": {},
     "output_type": "display_data"
    }
   ],
   "source": [
    "# Create an empty list for OBB error and i values iteration\n",
    "error_rate = []\n",
    "i_list = []\n",
    "\n",
    "# Define a loop to iterate over the different values of n_estimators\n",
    "for i in range(10, 300, 10):\n",
    "    # warm_start = true: reuse the solution of the previous iteration, adding more estimators (otherwise a whole neww tree would be created)\n",
    "    # random_state = 33: allows reproducibility, giving the same results each time the codeblock is run\n",
    "    # oob_score = true: sets oob score as the metric for generalisation score\n",
    "   \n",
    "   \n",
    "    rf = RandomForestRegressor(warm_start=True, n_estimators=i, max_features=None, random_state=33, oob_score=True)\n",
    "    rf.fit(X_train, Y_train)\n",
    "\n",
    "    # oob_score attribute returns the accuracy, but we are interested on the error itself (then: 1-oob_score)\n",
    "    oob_error = 1 - rf.oob_score_\n",
    "\n",
    "    # Append OOB error rate and i values to the lists\n",
    "    error_rate.append(oob_error)\n",
    "    i_list.append(i)\n",
    "  \n",
    "\n",
    "# Plot n_esitmators vs OOB error\n",
    "\n",
    "plt.plot(i_list, error_rate, label=\"OOB error rate\")\n",
    "plt.ylim(0, 1.5*max(error_rate)) \n",
    "plt.xlabel(\"n_estimators\")\n",
    "plt.ylabel(\"OOB error rate\")\n",
    "plt.title(\"OOB error rate vs n_estimators\")\n",
    "plt.legend(loc=\"upper right\")\n",
    "plt.show()"
   ]
  },
  {
   "cell_type": "markdown",
   "metadata": {},
   "source": [
    "Based on the obtained graphic, we can conclude that the OOB error gets stabilized when `n_estimators` reaches 50. Consequently, we will use this value for the model and for calibrating the next hyperparameter - `max_features`."
   ]
  },
  {
   "cell_type": "markdown",
   "metadata": {},
   "source": [
    "#### 2.2 Tuning max_features\n",
    "Once we have tuned the `n_estimators` parameter, we will use that for tuning the `max_features` parameter. \n",
    "\n",
    "We will tune this parameter using Cross Validation technique, with 3 k-folds, as is one of the most common standard k values used for this task. The Crossvalidation search is performed over 10 iterations, to obtain a robust result and reduce the effect of randomness."
   ]
  },
  {
   "cell_type": "code",
   "execution_count": 8,
   "metadata": {},
   "outputs": [],
   "source": [
    "# Create a dict of possible max_features values\n",
    "cv_vals = {'max_features': [0.1, 0.2, 0.3, 0.4, 0.5, 0.6, 0.7, 0.8, 0.9]}\n",
    "\n",
    "# Define the model\n",
    "# n_estimators=50 based on the previous parameter tuning step\n",
    "# random_state = 33: allows reproducibility, giving the same reuslts each time the notebook is ran\n",
    "rf = RandomForestRegressor(n_estimators=50, random_state=33)\n",
    "\n",
    "# Define the number of CV iterations (it) \n",
    "it = 10\n",
    "results_cv=pd.DataFrame()\n",
    "\n",
    "for i in range(it):\n",
    "    \n",
    "    gridsearch_cv = GridSearchCV(estimator=rf, param_grid=cv_vals, cv=3)\n",
    "    gridsearch_cv.fit(X_train, Y_train)\n",
    "    if i==0: \n",
    "        results_cv=pd.DataFrame(gridsearch_cv.cv_results_)[[\"params\",\"mean_test_score\",\"std_test_score\"]]\n",
    "    else:\n",
    "        results_cv[\"mean_test_score\"]=results_cv[\"mean_test_score\"]+pd.DataFrame(gridsearch_cv.cv_results_)[\"mean_test_score\"]\n",
    "        results_cv[\"std_test_score\"]=results_cv[\"std_test_score\"]+pd.DataFrame(gridsearch_cv.cv_results_)[\"std_test_score\"]  \n",
    "        \n",
    "results_cv[\"mean_test_score\"]=results_cv[\"mean_test_score\"]/it\n",
    "results_cv[\"std_test_score\"]=results_cv[\"std_test_score\"]/it "
   ]
  },
  {
   "cell_type": "code",
   "execution_count": null,
   "metadata": {},
   "outputs": [
    {
     "name": "stdout",
     "output_type": "stream",
     "text": [
      "                  params  mean_test_score  std_test_score\n",
      "0  {'max_features': 0.1}             0.86            0.04\n",
      "1  {'max_features': 0.2}             0.85            0.03\n",
      "2  {'max_features': 0.3}             0.85            0.03\n",
      "3  {'max_features': 0.4}             0.85            0.04\n",
      "4  {'max_features': 0.5}             0.85            0.04\n",
      "5  {'max_features': 0.6}             0.85            0.04\n",
      "6  {'max_features': 0.7}             0.85            0.04\n",
      "7  {'max_features': 0.8}             0.84            0.04\n",
      "8  {'max_features': 0.9}             0.84            0.04\n"
     ]
    }
   ],
   "source": [
    "# Step 3: get the best parameters (with the higher performance)\n",
    "print(round(results_cv, 2))"
   ]
  },
  {
   "cell_type": "markdown",
   "metadata": {},
   "source": [
    "However, we observed that the loop in the previous code may be reduntant because the iteration dependent operation is absent in the workflow. Furthermore, GridSearchCV() performs the looping internally for all the possible parameter values. Therefore, we will remove the loop and run the code again. The loop seems to only repeat the same result 10 times increasing the run time exorbitantly. We see that the final dataframe is the same for both the cases."
   ]
  },
  {
   "cell_type": "code",
   "execution_count": 11,
   "metadata": {},
   "outputs": [
    {
     "data": {
      "text/plain": [
       "{'mean_fit_time': array([0.44349313, 0.57512808, 0.7866989 , 0.93052387, 1.14793046,\n",
       "        1.54769826, 1.62666392, 1.71742344, 1.85336765]),\n",
       " 'std_fit_time': array([0.0583903 , 0.00785121, 0.02727982, 0.00290609, 0.03594476,\n",
       "        0.01757216, 0.05864406, 0.03527879, 0.01953428]),\n",
       " 'mean_score_time': array([0.01062504, 0.01030763, 0.01564908, 0.01096169, 0.01097441,\n",
       "        0.01230121, 0.01331075, 0.01098196, 0.01164635]),\n",
       " 'std_score_time': array([0.00092122, 0.00047064, 0.00656935, 0.00140353, 0.00080602,\n",
       "        0.0032915 , 0.00261121, 0.00078867, 0.00045322]),\n",
       " 'param_max_features': masked_array(data=[0.1, 0.2, 0.3, 0.4, 0.5, 0.6, 0.7, 0.8, 0.9],\n",
       "              mask=[False, False, False, False, False, False, False, False,\n",
       "                    False],\n",
       "        fill_value='?',\n",
       "             dtype=object),\n",
       " 'params': [{'max_features': 0.1},\n",
       "  {'max_features': 0.2},\n",
       "  {'max_features': 0.3},\n",
       "  {'max_features': 0.4},\n",
       "  {'max_features': 0.5},\n",
       "  {'max_features': 0.6},\n",
       "  {'max_features': 0.7},\n",
       "  {'max_features': 0.8},\n",
       "  {'max_features': 0.9}],\n",
       " 'split0_test_score': array([0.85681634, 0.84557534, 0.84053775, 0.82610206, 0.83735115,\n",
       "        0.83188944, 0.83289962, 0.82023858, 0.82517605]),\n",
       " 'split1_test_score': array([0.9027626 , 0.89930401, 0.89769732, 0.89702147, 0.90892342,\n",
       "        0.90047668, 0.90689533, 0.90046888, 0.8984999 ]),\n",
       " 'split2_test_score': array([0.8105254 , 0.8167556 , 0.81704219, 0.81196449, 0.81648878,\n",
       "        0.81620359, 0.81590344, 0.80891603, 0.80576516]),\n",
       " 'mean_test_score': array([0.85670144, 0.85387832, 0.85175909, 0.84502934, 0.85425445,\n",
       "        0.84952324, 0.85189947, 0.84320783, 0.84314704]),\n",
       " 'std_test_score': array([0.03765577, 0.03420784, 0.03386986, 0.03721428, 0.03958393,\n",
       "        0.03659418, 0.03950212, 0.04075267, 0.03993453]),\n",
       " 'rank_test_score': array([1, 3, 5, 7, 2, 6, 4, 8, 9])}"
      ]
     },
     "execution_count": 11,
     "metadata": {},
     "output_type": "execute_result"
    }
   ],
   "source": [
    "gridsearch_cv1 = GridSearchCV(estimator=rf, param_grid=cv_vals, cv=3)\n",
    "gridsearch_cv1.fit(X_train, Y_train)\n",
    "gridsearch_cv1.cv_results_\n"
   ]
  },
  {
   "cell_type": "code",
   "execution_count": 18,
   "metadata": {},
   "outputs": [
    {
     "data": {
      "text/html": [
       "<div>\n",
       "<style scoped>\n",
       "    .dataframe tbody tr th:only-of-type {\n",
       "        vertical-align: middle;\n",
       "    }\n",
       "\n",
       "    .dataframe tbody tr th {\n",
       "        vertical-align: top;\n",
       "    }\n",
       "\n",
       "    .dataframe thead th {\n",
       "        text-align: right;\n",
       "    }\n",
       "</style>\n",
       "<table border=\"1\" class=\"dataframe\">\n",
       "  <thead>\n",
       "    <tr style=\"text-align: right;\">\n",
       "      <th></th>\n",
       "      <th>params</th>\n",
       "      <th>mean_test_score</th>\n",
       "      <th>std_test_score</th>\n",
       "    </tr>\n",
       "  </thead>\n",
       "  <tbody>\n",
       "    <tr>\n",
       "      <th>0</th>\n",
       "      <td>{'max_features': 0.1}</td>\n",
       "      <td>0.86</td>\n",
       "      <td>0.04</td>\n",
       "    </tr>\n",
       "    <tr>\n",
       "      <th>1</th>\n",
       "      <td>{'max_features': 0.2}</td>\n",
       "      <td>0.85</td>\n",
       "      <td>0.03</td>\n",
       "    </tr>\n",
       "    <tr>\n",
       "      <th>2</th>\n",
       "      <td>{'max_features': 0.3}</td>\n",
       "      <td>0.85</td>\n",
       "      <td>0.03</td>\n",
       "    </tr>\n",
       "    <tr>\n",
       "      <th>3</th>\n",
       "      <td>{'max_features': 0.4}</td>\n",
       "      <td>0.85</td>\n",
       "      <td>0.04</td>\n",
       "    </tr>\n",
       "    <tr>\n",
       "      <th>4</th>\n",
       "      <td>{'max_features': 0.5}</td>\n",
       "      <td>0.85</td>\n",
       "      <td>0.04</td>\n",
       "    </tr>\n",
       "    <tr>\n",
       "      <th>5</th>\n",
       "      <td>{'max_features': 0.6}</td>\n",
       "      <td>0.85</td>\n",
       "      <td>0.04</td>\n",
       "    </tr>\n",
       "    <tr>\n",
       "      <th>6</th>\n",
       "      <td>{'max_features': 0.7}</td>\n",
       "      <td>0.85</td>\n",
       "      <td>0.04</td>\n",
       "    </tr>\n",
       "    <tr>\n",
       "      <th>7</th>\n",
       "      <td>{'max_features': 0.8}</td>\n",
       "      <td>0.84</td>\n",
       "      <td>0.04</td>\n",
       "    </tr>\n",
       "    <tr>\n",
       "      <th>8</th>\n",
       "      <td>{'max_features': 0.9}</td>\n",
       "      <td>0.84</td>\n",
       "      <td>0.04</td>\n",
       "    </tr>\n",
       "  </tbody>\n",
       "</table>\n",
       "</div>"
      ],
      "text/plain": [
       "                  params  mean_test_score  std_test_score\n",
       "0  {'max_features': 0.1}             0.86            0.04\n",
       "1  {'max_features': 0.2}             0.85            0.03\n",
       "2  {'max_features': 0.3}             0.85            0.03\n",
       "3  {'max_features': 0.4}             0.85            0.04\n",
       "4  {'max_features': 0.5}             0.85            0.04\n",
       "5  {'max_features': 0.6}             0.85            0.04\n",
       "6  {'max_features': 0.7}             0.85            0.04\n",
       "7  {'max_features': 0.8}             0.84            0.04\n",
       "8  {'max_features': 0.9}             0.84            0.04"
      ]
     },
     "execution_count": 18,
     "metadata": {},
     "output_type": "execute_result"
    }
   ],
   "source": [
    "results_cv = pd.DataFrame(gridsearch_cv1.cv_results_)[[\"params\",\"mean_test_score\",\"std_test_score\"]]\n",
    "# round off to 2 decimal places\n",
    "results_cv = results_cv.round(2)\n",
    "results_cv"
   ]
  },
  {
   "cell_type": "markdown",
   "metadata": {},
   "source": [
    "According to the results obtained with CrossValidation, we will tune the max_features parameter to 0.3. This is because 0.3 is, together with 0.2, one of the two values that show a better trade-off between mean test score and mean sandard deviation test score. Moreover, 1/3 of the data is generally considered as a good proportion for max features in random forest (Hastie, Tibshirani, & Friedman, 2009, p. 592)."
   ]
  },
  {
   "cell_type": "markdown",
   "metadata": {},
   "source": [
    "#### 2.3. Re-testing n_estimators value\n",
    "As the value of `max_features` changed, after tuning, from the one that was originally considered when tuning `n_estimators`, we will test again if `n_estimators`=`50` is a good value for a random forest model with `max_features`=`0.3`"
   ]
  },
  {
   "cell_type": "code",
   "execution_count": 19,
   "metadata": {},
   "outputs": [
    {
     "name": "stderr",
     "output_type": "stream",
     "text": [
      "d:\\Programs\\anaconda3\\Lib\\site-packages\\sklearn\\ensemble\\_forest.py:578: UserWarning: Some inputs do not have OOB scores. This probably means too few trees were used to compute any reliable OOB estimates.\n",
      "  warn(\n"
     ]
    },
    {
     "data": {
      "image/png": "[encoded data removed]",
      "text/plain": [
       "<Figure size 640x480 with 1 Axes>"
      ]
     },
     "metadata": {},
     "output_type": "display_data"
    }
   ],
   "source": [
    "# Create an empty list for OBB error and i values iteration\n",
    "error_rate = []\n",
    "i_list = []\n",
    "\n",
    "# Define a loop to iterate over the different values of n_estimators\n",
    "for i in range(10, 300, 10):\n",
    "    # We use the same configuration as in the tuning, but now max_features= 0.3\n",
    "    rf = RandomForestRegressor(warm_start=True, n_estimators=i, max_features=0.3, random_state=33, oob_score=True)\n",
    "    rf.fit(X_train, Y_train)\n",
    "\n",
    "    # oob_score attribute returns the accuracy, but we are interested on the error itself (then: 1-oob_score)\n",
    "    oob_error = 1 - rf.oob_score_\n",
    "\n",
    "    # Append OOB error rate and i values to the lists\n",
    "    error_rate.append(oob_error)\n",
    "    i_list.append(i)\n",
    "    \n",
    "# Plot n_esitmators vs OOB error\n",
    "plt.plot(i_list, error_rate, label=\"OOB error rate\")\n",
    "plt.ylim(0, 1.5*max(error_rate)) \n",
    "plt.xlabel(\"n_estimators\")\n",
    "plt.ylabel(\"OOB error rate\")\n",
    "plt.title(\"OOB error rate vs n_estimators\")\n",
    "plt.legend(loc=\"upper right\")\n",
    "plt.show()"
   ]
  },
  {
   "cell_type": "markdown",
   "metadata": {},
   "source": [
    "We can see that, even after changing the max_features parameter value, n_estimators=50 seems to be small, to we will finally tune it to 75"
   ]
  },
  {
   "cell_type": "markdown",
   "metadata": {},
   "source": [
    "#### 2.4. Applying the final Random Forest model\n",
    "Now we will train the final model, with the tuned hyperparameters and compute the OOB error"
   ]
  },
  {
   "cell_type": "code",
   "execution_count": 11,
   "metadata": {},
   "outputs": [
    {
     "data": {
      "text/html": [
       "<style>#sk-container-id-2 {color: black;}#sk-container-id-2 pre{padding: 0;}#sk-container-id-2 div.sk-toggleable {background-color: white;}#sk-container-id-2 label.sk-toggleable__label {cursor: pointer;display: block;width: 100%;margin-bottom: 0;padding: 0.3em;box-sizing: border-box;text-align: center;}#sk-container-id-2 label.sk-toggleable__label-arrow:before {content: \"▸\";float: left;margin-right: 0.25em;color: #696969;}#sk-container-id-2 label.sk-toggleable__label-arrow:hover:before {color: black;}#sk-container-id-2 div.sk-estimator:hover label.sk-toggleable__label-arrow:before {color: black;}#sk-container-id-2 div.sk-toggleable__content {max-height: 0;max-width: 0;overflow: hidden;text-align: left;background-color: #f0f8ff;}#sk-container-id-2 div.sk-toggleable__content pre {margin: 0.2em;color: black;border-radius: 0.25em;background-color: #f0f8ff;}#sk-container-id-2 input.sk-toggleable__control:checked~div.sk-toggleable__content {max-height: 200px;max-width: 100%;overflow: auto;}#sk-container-id-2 input.sk-toggleable__control:checked~label.sk-toggleable__label-arrow:before {content: \"▾\";}#sk-container-id-2 div.sk-estimator input.sk-toggleable__control:checked~label.sk-toggleable__label {background-color: #d4ebff;}#sk-container-id-2 div.sk-label input.sk-toggleable__control:checked~label.sk-toggleable__label {background-color: #d4ebff;}#sk-container-id-2 input.sk-hidden--visually {border: 0;clip: rect(1px 1px 1px 1px);clip: rect(1px, 1px, 1px, 1px);height: 1px;margin: -1px;overflow: hidden;padding: 0;position: absolute;width: 1px;}#sk-container-id-2 div.sk-estimator {font-family: monospace;background-color: #f0f8ff;border: 1px dotted black;border-radius: 0.25em;box-sizing: border-box;margin-bottom: 0.5em;}#sk-container-id-2 div.sk-estimator:hover {background-color: #d4ebff;}#sk-container-id-2 div.sk-parallel-item::after {content: \"\";width: 100%;border-bottom: 1px solid gray;flex-grow: 1;}#sk-container-id-2 div.sk-label:hover label.sk-toggleable__label {background-color: #d4ebff;}#sk-container-id-2 div.sk-serial::before {content: \"\";position: absolute;border-left: 1px solid gray;box-sizing: border-box;top: 0;bottom: 0;left: 50%;z-index: 0;}#sk-container-id-2 div.sk-serial {display: flex;flex-direction: column;align-items: center;background-color: white;padding-right: 0.2em;padding-left: 0.2em;position: relative;}#sk-container-id-2 div.sk-item {position: relative;z-index: 1;}#sk-container-id-2 div.sk-parallel {display: flex;align-items: stretch;justify-content: center;background-color: white;position: relative;}#sk-container-id-2 div.sk-item::before, #sk-container-id-2 div.sk-parallel-item::before {content: \"\";position: absolute;border-left: 1px solid gray;box-sizing: border-box;top: 0;bottom: 0;left: 50%;z-index: -1;}#sk-container-id-2 div.sk-parallel-item {display: flex;flex-direction: column;z-index: 1;position: relative;background-color: white;}#sk-container-id-2 div.sk-parallel-item:first-child::after {align-self: flex-end;width: 50%;}#sk-container-id-2 div.sk-parallel-item:last-child::after {align-self: flex-start;width: 50%;}#sk-container-id-2 div.sk-parallel-item:only-child::after {width: 0;}#sk-container-id-2 div.sk-dashed-wrapped {border: 1px dashed gray;margin: 0 0.4em 0.5em 0.4em;box-sizing: border-box;padding-bottom: 0.4em;background-color: white;}#sk-container-id-2 div.sk-label label {font-family: monospace;font-weight: bold;display: inline-block;line-height: 1.2em;}#sk-container-id-2 div.sk-label-container {text-align: center;}#sk-container-id-2 div.sk-container {/* jupyter's `normalize.less` sets `[hidden] { display: none; }` but bootstrap.min.css set `[hidden] { display: none !important; }` so we also need the `!important` here to be able to override the default hidden behavior on the sphinx rendered scikit-learn.org. See: https://github.com/scikit-learn/scikit-learn/issues/21755 */display: inline-block !important;position: relative;}#sk-container-id-2 div.sk-text-repr-fallback {display: none;}</style><div id=\"sk-container-id-2\" class=\"sk-top-container\"><div class=\"sk-text-repr-fallback\"><pre>RandomForestRegressor(max_features=0.3, n_estimators=75, oob_score=True,\n",
       "                      random_state=33)</pre><b>In a Jupyter environment, please rerun this cell to show the HTML representation or trust the notebook. <br />On GitHub, the HTML representation is unable to render, please try loading this page with nbviewer.org.</b></div><div class=\"sk-container\" hidden><div class=\"sk-item\"><div class=\"sk-estimator sk-toggleable\"><input class=\"sk-toggleable__control sk-hidden--visually\" id=\"sk-estimator-id-4\" type=\"checkbox\" checked><label for=\"sk-estimator-id-4\" class=\"sk-toggleable__label sk-toggleable__label-arrow\">RandomForestRegressor</label><div class=\"sk-toggleable__content\"><pre>RandomForestRegressor(max_features=0.3, n_estimators=75, oob_score=True,\n",
       "                      random_state=33)</pre></div></div></div></div></div>"
      ],
      "text/plain": [
       "RandomForestRegressor(max_features=0.3, n_estimators=75, oob_score=True,\n",
       "                      random_state=33)"
      ]
     },
     "execution_count": 11,
     "metadata": {},
     "output_type": "execute_result"
    }
   ],
   "source": [
    "rf1 = RandomForestRegressor(n_estimators = 75, max_features= 0.3, oob_score=True, random_state=33)\n",
    "# Step 2: build the random forest on the train set by indicating the input data and the target variable \n",
    "rf1.fit(X_train, Y_train)"
   ]
  },
  {
   "cell_type": "code",
   "execution_count": 5,
   "metadata": {},
   "outputs": [
    {
     "name": "stdout",
     "output_type": "stream",
     "text": [
      "OOB error: 0.12\n"
     ]
    }
   ],
   "source": [
    "# OOB error\n",
    "print(f'OOB error: {round(1-rf1.oob_score_, 2)}')"
   ]
  },
  {
   "cell_type": "markdown",
   "metadata": {},
   "source": [
    "### 2. Measure the importance of variables\n",
    "Once the final model is trained, we will analyze the importance of the different variables. For this we will use the Mean Decrease in Accuracy metric (MDA), which calculates the difference between the error of the forest on Tm and the error of the forestpermuted sample e T jm. We decide to use this metric instead of Gini Impurity, other popular metric, because MDA has been demonstrated to be more robust when fealling with variables of different scales and when there are correlations between predictive variables (Nicodemus, 2011 & Han et al. 2016). These two characteristics are present in our datasetm as it was analyzed in the EDA."
   ]
  },
  {
   "cell_type": "markdown",
   "metadata": {},
   "source": [
    "## CHECK N_REPEATS PARAM VALUE\n",
    "## EDIT A BIT THIS CODE AS IT WAS TAKEN FROM AUDREYS NOTEBOOK (and maybe use other graph)\n"
   ]
  },
  {
   "cell_type": "code",
   "execution_count": 12,
   "metadata": {},
   "outputs": [],
   "source": [
    "result = permutation_importance(rf1, X_train, Y_train, n_repeats=10, random_state=33, n_jobs=-1)"
   ]
  },
  {
   "cell_type": "code",
   "execution_count": 13,
   "metadata": {},
   "outputs": [
    {
     "data": {
      "image/png": "[encoded data removed]",
      "text/plain": [
       "<Figure size 1500x500 with 1 Axes>"
      ]
     },
     "metadata": {},
     "output_type": "display_data"
    }
   ],
   "source": [
    "## Plot of the MDA for the 15 features with the highest average MDA\n",
    "sorted_idx = result.importances_mean.argsort()\n",
    "invert_sorted_idx=sorted_idx[::-1][:15]# keep only the 15 features with the highest average MDA\n",
    "fig, ax = plt.subplots(figsize=(15,5))\n",
    "ax.boxplot(result.importances[invert_sorted_idx].T,\n",
    "           vert=False, labels=X_train.columns[invert_sorted_idx])\n",
    "# increase the size of x axis interval\n",
    "ax.set_xlim(0.004,0.13)\n",
    "ax.set_title(\"MDA computed on the test set for the 15 features with the highest average MDA\")\n",
    "fig.tight_layout()\n",
    "plt.show()"
   ]
  },
  {
   "cell_type": "markdown",
   "metadata": {},
   "source": [
    "### 3. Variable selection\n",
    "In this section we will select the variables that will be used for training the final model. For this, we use boruta feature selection strategy. Boruta algorithm iteratively removes the features of less relevance to the prediction, based on a statistical test [(Kursa & Rudnicki, 2010)](https://www.jstatsoft.org/article/view/v036i11). The [Boruta python package](https://github.com/scikit-learn-contrib/boruta_py) provides an impleentation of this algorithm.\n",
    "\n",
    "We pick Boruta because of two reasons: One, we do not want to specify the number of variables to be selected, in case we miss out on important ones due to such a limit, this is a limitation with Recurisve Feature Elimination (RFE) because the user needs to specify this limit [(Samo, 2022)](https://blog.kxy.ai/effective-feature-selection/index.html#limits). And two, Boruta requires far fewer iterations compared to RFE, which is a big advantage when working with large datasets *(Ibid)*. "
   ]
  },
  {
   "cell_type": "code",
   "execution_count": 4,
   "metadata": {},
   "outputs": [],
   "source": [
    "# !pip install Boruta\n",
    "from boruta import BorutaPy"
   ]
  },
  {
   "cell_type": "markdown",
   "metadata": {},
   "source": [
    "## Explain the choice of parameters in Boruta here ---"
   ]
  },
  {
   "cell_type": "code",
   "execution_count": 5,
   "metadata": {},
   "outputs": [
    {
     "data": {
      "text/html": [
       "<style>#sk-container-id-1 {color: black;}#sk-container-id-1 pre{padding: 0;}#sk-container-id-1 div.sk-toggleable {background-color: white;}#sk-container-id-1 label.sk-toggleable__label {cursor: pointer;display: block;width: 100%;margin-bottom: 0;padding: 0.3em;box-sizing: border-box;text-align: center;}#sk-container-id-1 label.sk-toggleable__label-arrow:before {content: \"▸\";float: left;margin-right: 0.25em;color: #696969;}#sk-container-id-1 label.sk-toggleable__label-arrow:hover:before {color: black;}#sk-container-id-1 div.sk-estimator:hover label.sk-toggleable__label-arrow:before {color: black;}#sk-container-id-1 div.sk-toggleable__content {max-height: 0;max-width: 0;overflow: hidden;text-align: left;background-color: #f0f8ff;}#sk-container-id-1 div.sk-toggleable__content pre {margin: 0.2em;color: black;border-radius: 0.25em;background-color: #f0f8ff;}#sk-container-id-1 input.sk-toggleable__control:checked~div.sk-toggleable__content {max-height: 200px;max-width: 100%;overflow: auto;}#sk-container-id-1 input.sk-toggleable__control:checked~label.sk-toggleable__label-arrow:before {content: \"▾\";}#sk-container-id-1 div.sk-estimator input.sk-toggleable__control:checked~label.sk-toggleable__label {background-color: #d4ebff;}#sk-container-id-1 div.sk-label input.sk-toggleable__control:checked~label.sk-toggleable__label {background-color: #d4ebff;}#sk-container-id-1 input.sk-hidden--visually {border: 0;clip: rect(1px 1px 1px 1px);clip: rect(1px, 1px, 1px, 1px);height: 1px;margin: -1px;overflow: hidden;padding: 0;position: absolute;width: 1px;}#sk-container-id-1 div.sk-estimator {font-family: monospace;background-color: #f0f8ff;border: 1px dotted black;border-radius: 0.25em;box-sizing: border-box;margin-bottom: 0.5em;}#sk-container-id-1 div.sk-estimator:hover {background-color: #d4ebff;}#sk-container-id-1 div.sk-parallel-item::after {content: \"\";width: 100%;border-bottom: 1px solid gray;flex-grow: 1;}#sk-container-id-1 div.sk-label:hover label.sk-toggleable__label {background-color: #d4ebff;}#sk-container-id-1 div.sk-serial::before {content: \"\";position: absolute;border-left: 1px solid gray;box-sizing: border-box;top: 0;bottom: 0;left: 50%;z-index: 0;}#sk-container-id-1 div.sk-serial {display: flex;flex-direction: column;align-items: center;background-color: white;padding-right: 0.2em;padding-left: 0.2em;position: relative;}#sk-container-id-1 div.sk-item {position: relative;z-index: 1;}#sk-container-id-1 div.sk-parallel {display: flex;align-items: stretch;justify-content: center;background-color: white;position: relative;}#sk-container-id-1 div.sk-item::before, #sk-container-id-1 div.sk-parallel-item::before {content: \"\";position: absolute;border-left: 1px solid gray;box-sizing: border-box;top: 0;bottom: 0;left: 50%;z-index: -1;}#sk-container-id-1 div.sk-parallel-item {display: flex;flex-direction: column;z-index: 1;position: relative;background-color: white;}#sk-container-id-1 div.sk-parallel-item:first-child::after {align-self: flex-end;width: 50%;}#sk-container-id-1 div.sk-parallel-item:last-child::after {align-self: flex-start;width: 50%;}#sk-container-id-1 div.sk-parallel-item:only-child::after {width: 0;}#sk-container-id-1 div.sk-dashed-wrapped {border: 1px dashed gray;margin: 0 0.4em 0.5em 0.4em;box-sizing: border-box;padding-bottom: 0.4em;background-color: white;}#sk-container-id-1 div.sk-label label {font-family: monospace;font-weight: bold;display: inline-block;line-height: 1.2em;}#sk-container-id-1 div.sk-label-container {text-align: center;}#sk-container-id-1 div.sk-container {/* jupyter's `normalize.less` sets `[hidden] { display: none; }` but bootstrap.min.css set `[hidden] { display: none !important; }` so we also need the `!important` here to be able to override the default hidden behavior on the sphinx rendered scikit-learn.org. See: https://github.com/scikit-learn/scikit-learn/issues/21755 */display: inline-block !important;position: relative;}#sk-container-id-1 div.sk-text-repr-fallback {display: none;}</style><div id=\"sk-container-id-1\" class=\"sk-top-container\"><div class=\"sk-text-repr-fallback\"><pre>BorutaPy(estimator=RandomForestRegressor(max_features=None, n_estimators=60,\n",
       "                                         n_jobs=-1, oob_score=True,\n",
       "                                         random_state=RandomState(MT19937) at 0x10E88FFD440),\n",
       "         n_estimators=&#x27;auto&#x27;,\n",
       "         random_state=RandomState(MT19937) at 0x10E88FFD440)</pre><b>In a Jupyter environment, please rerun this cell to show the HTML representation or trust the notebook. <br />On GitHub, the HTML representation is unable to render, please try loading this page with nbviewer.org.</b></div><div class=\"sk-container\" hidden><div class=\"sk-item sk-dashed-wrapped\"><div class=\"sk-label-container\"><div class=\"sk-label sk-toggleable\"><input class=\"sk-toggleable__control sk-hidden--visually\" id=\"sk-estimator-id-1\" type=\"checkbox\" ><label for=\"sk-estimator-id-1\" class=\"sk-toggleable__label sk-toggleable__label-arrow\">BorutaPy</label><div class=\"sk-toggleable__content\"><pre>BorutaPy(estimator=RandomForestRegressor(max_features=None, n_estimators=60,\n",
       "                                         n_jobs=-1, oob_score=True,\n",
       "                                         random_state=RandomState(MT19937) at 0x10E88FFD440),\n",
       "         n_estimators=&#x27;auto&#x27;,\n",
       "         random_state=RandomState(MT19937) at 0x10E88FFD440)</pre></div></div></div><div class=\"sk-parallel\"><div class=\"sk-parallel-item\"><div class=\"sk-item\"><div class=\"sk-label-container\"><div class=\"sk-label sk-toggleable\"><input class=\"sk-toggleable__control sk-hidden--visually\" id=\"sk-estimator-id-2\" type=\"checkbox\" ><label for=\"sk-estimator-id-2\" class=\"sk-toggleable__label sk-toggleable__label-arrow\">estimator: RandomForestRegressor</label><div class=\"sk-toggleable__content\"><pre>RandomForestRegressor(max_features=None, n_estimators=60, n_jobs=-1,\n",
       "                      oob_score=True,\n",
       "                      random_state=RandomState(MT19937) at 0x10E88FFD440)</pre></div></div></div><div class=\"sk-serial\"><div class=\"sk-item\"><div class=\"sk-estimator sk-toggleable\"><input class=\"sk-toggleable__control sk-hidden--visually\" id=\"sk-estimator-id-3\" type=\"checkbox\" ><label for=\"sk-estimator-id-3\" class=\"sk-toggleable__label sk-toggleable__label-arrow\">RandomForestRegressor</label><div class=\"sk-toggleable__content\"><pre>RandomForestRegressor(max_features=None, n_estimators=60, n_jobs=-1,\n",
       "                      oob_score=True,\n",
       "                      random_state=RandomState(MT19937) at 0x10E88FFD440)</pre></div></div></div></div></div></div></div></div></div></div>"
      ],
      "text/plain": [
       "BorutaPy(estimator=RandomForestRegressor(max_features=None, n_estimators=60,\n",
       "                                         n_jobs=-1, oob_score=True,\n",
       "                                         random_state=RandomState(MT19937) at 0x10E88FFD440),\n",
       "         n_estimators='auto',\n",
       "         random_state=RandomState(MT19937) at 0x10E88FFD440)"
      ]
     },
     "execution_count": 5,
     "metadata": {},
     "output_type": "execute_result"
    }
   ],
   "source": [
    "rf = RandomForestRegressor(n_estimators=75,n_jobs=-1, max_features=None,oob_score=True,random_state=33)\n",
    "rf.fit(X_train, Y_train)\n",
    "\n",
    "# define Boruta feature selection method\n",
    "boruta = BorutaPy(rf, n_estimators='auto', verbose=0, random_state=33)\n",
    "\n",
    "# find all relevant features\n",
    "boruta.fit(X_train.values, Y_train.values)"
   ]
  },
  {
   "cell_type": "code",
   "execution_count": 6,
   "metadata": {},
   "outputs": [
    {
     "data": {
      "text/plain": [
       "array([ True,  True,  True, False, False, False, False, False,  True,\n",
       "       False, False,  True,  True, False, False,  True, False, False,\n",
       "       False,  True, False, False, False,  True, False, False,  True,\n",
       "        True, False, False, False, False, False, False,  True, False,\n",
       "       False, False, False, False, False,  True,  True, False, False,\n",
       "       False, False, False, False, False, False, False, False, False,\n",
       "       False, False, False, False, False, False, False, False, False,\n",
       "       False, False, False, False, False, False, False, False, False,\n",
       "       False, False, False, False, False, False, False, False, False,\n",
       "       False, False, False, False, False, False, False, False, False,\n",
       "       False, False, False, False, False, False, False, False, False,\n",
       "       False, False, False, False, False, False, False, False, False,\n",
       "       False, False, False, False, False, False, False, False, False,\n",
       "       False, False, False, False, False, False, False, False, False,\n",
       "       False, False, False, False, False, False, False, False, False,\n",
       "       False, False, False, False, False, False, False, False, False,\n",
       "       False, False, False, False, False, False, False, False, False,\n",
       "       False, False, False, False, False, False, False, False, False,\n",
       "       False, False, False, False, False, False, False, False, False,\n",
       "       False, False, False, False, False, False, False, False, False,\n",
       "       False, False, False, False, False, False, False, False, False,\n",
       "       False, False, False, False, False, False, False, False, False,\n",
       "       False, False, False, False])"
      ]
     },
     "execution_count": 6,
     "metadata": {},
     "output_type": "execute_result"
    }
   ],
   "source": [
    "boruta.support_"
   ]
  },
  {
   "cell_type": "code",
   "execution_count": 7,
   "metadata": {},
   "outputs": [
    {
     "data": {
      "text/plain": [
       "array([  1,   1,   1, 174,  55,  35, 181,  52,   1,  11,   3,   1,   1,\n",
       "         2,  36,   1,  96,  22,   8,   1,  85,  69,   4,   1,  21,  98,\n",
       "         1,   1,  15,  67,   2,  27,  13,  93,   1,   6,  44,   7,  10,\n",
       "         5,  20,   1,   1, 111,  75, 106,   3,   2,  63, 130,   9, 163,\n",
       "       127,  89,  63,   2,  17,  75, 160, 102,  54, 170, 158,  79, 121,\n",
       "        92, 104,  70, 169, 145, 105, 158,  81,  41,  14,  48,  53,  28,\n",
       "        65,  72, 117, 144,  63, 141,  76, 168, 114,  58,  19,  12, 128,\n",
       "       172, 163, 122,  41,  84,  23,  34, 120, 156, 110, 114,  78,  16,\n",
       "       110,  24, 133,  92,  69, 107, 108, 125, 152, 182, 155, 178, 116,\n",
       "        95,  78,  30, 138,  94, 115, 112,  89,  60, 148,  41, 143,  98,\n",
       "       167,  43, 173,  46,  87, 129,  84, 183, 139, 167,  87, 143, 150,\n",
       "        34,  32,  81, 100, 148,  49,  71, 146, 163, 178,  59,  39, 125,\n",
       "        82, 159,  99, 148,  18,  73, 101, 119,  45, 125,  56, 131,  38,\n",
       "        50, 136, 178, 185, 185, 132, 123, 118, 154,  47, 136,  90, 172,\n",
       "        67, 137,  63, 176,  57, 134, 104, 163, 153, 141,  30, 151, 181,\n",
       "        25,  51, 175, 165,  31,  27,  37])"
      ]
     },
     "execution_count": 7,
     "metadata": {},
     "output_type": "execute_result"
    }
   ],
   "source": [
    "boruta.ranking_"
   ]
  },
  {
   "cell_type": "code",
   "execution_count": 21,
   "metadata": {},
   "outputs": [
    {
     "name": "stdout",
     "output_type": "stream",
     "text": [
      "['BldgArea', 'LotFrontage', 'LotArea', 'OverallQual', 'YearRemodAdd', 'MasVnrArea', 'BsmtQual', 'BsmtFinSF1', 'TotalBsmtSF', 'X1FloorSF', 'X2FloorSF', 'KitchenQual', 'GarageCars', 'GarageArea']\n",
      "14\n"
     ]
    }
   ],
   "source": [
    "boruta_subset = [f for f,s in zip(X_train.columns, boruta.support_) if s]\n",
    "print(boruta_subset)\n",
    "print(len(boruta_subset))"
   ]
  },
  {
   "cell_type": "markdown",
   "metadata": {},
   "source": [
    "Boruta has selected the following 14 variables as relevant for the prediction::\n",
    "`['BldgArea'`, `'LotFrontage'`, `'LotArea'`, `'OverallQual'`, '`YearRemodAdd'`, `'MasVnrArea'`, `'BsmtQual'`, `'BsmtFinSF1'`, `'TotalBsmtSF'`, `'X1FloorSF'`, `'X2FloorSF'`, `'KitchenQual'`, `'GarageCars'`, `'GarageArea']`\n",
    "\n",
    "We can use these variables to train the final model."
   ]
  },
  {
   "cell_type": "code",
   "execution_count": 26,
   "metadata": {},
   "outputs": [
    {
     "name": "stdout",
     "output_type": "stream",
     "text": [
      "['BldgArea' 'BsmtFinSF1' 'BsmtQual' 'GarageArea' 'GarageCars'\n",
      " 'KitchenQual' 'LotArea' 'MasVnrArea' 'OverallQual' 'TotalBsmtSF'\n",
      " 'X1FloorSF' 'X2FloorSF' 'YearRemodAdd']\n",
      "13\n"
     ]
    }
   ],
   "source": [
    "# this codeblock is just to check how much the results match with the MDA - we dont use this intersection for training\n",
    "intersection = np.intersect1d(boruta_subset,X_train.columns[invert_sorted_idx])\n",
    "print(intersection)\n",
    "print(len(intersection))"
   ]
  },
  {
   "cell_type": "markdown",
   "metadata": {},
   "source": [
    "### 4. Evaluate test performance\n",
    "Evaluate the test performance of the two random forest models (based on the full set of variables or a subset) and determine the configuration of the best model (based on the main evaluation metric you selected in step 1)."
   ]
  },
  {
   "cell_type": "code",
   "execution_count": 23,
   "metadata": {},
   "outputs": [],
   "source": [
    "from sklearn.metrics import mean_squared_log_error\n",
    "\n",
    "def rmsle(y_test, y_pred):\n",
    "    \"\"\"\n",
    "    This function calculates the RMSLE between the predicted and the actual values\n",
    "    -------------------------------------------\n",
    "    Parameters:\n",
    "    y_test (array): Array of actual values\n",
    "    y_pred (array): Array of predicted values\n",
    "    \n",
    "    Returns:\n",
    "    float: RMSLE value\n",
    "    \"\"\"\n",
    "    return np.sqrt(mean_squared_log_error(y_test, y_pred))"
   ]
  },
  {
   "cell_type": "code",
   "execution_count": 24,
   "metadata": {},
   "outputs": [
    {
     "name": "stdout",
     "output_type": "stream",
     "text": [
      "R2 on test set:  0.89\n",
      "RMSLE on test set:  0.13\n"
     ]
    }
   ],
   "source": [
    "# Using the entire set of variables\n",
    "rf1 = RandomForestRegressor(n_estimators=75,n_jobs=-1, max_features=0.3,oob_score=True,random_state=33)\n",
    "rf1.fit(X_train, Y_train)\n",
    "y_pred = rf1.predict(X_test)\n",
    "print('R2 on test set: ', round(rf1.score(X_test, Y_test),2))\n",
    "print('RMSLE on test set: ', round(rmsle(Y_test, y_pred),2))"
   ]
  },
  {
   "cell_type": "code",
   "execution_count": 25,
   "metadata": {},
   "outputs": [
    {
     "name": "stdout",
     "output_type": "stream",
     "text": [
      "R2 on test set:  0.89\n",
      "RMSLE on test set:  0.14\n"
     ]
    }
   ],
   "source": [
    "# Using the subset of variables selected by Boruta\n",
    "X_train_new = X_train[boruta_subset]\n",
    "X_test_new = X_test[boruta_subset]\n",
    "\n",
    "rf2 = RandomForestRegressor(n_estimators = 75, n_jobs=-1, max_features= 0.3, oob_score=True, random_state=33)\n",
    "rf2.fit(X_train_new, Y_train)\n",
    "y_pred2 = rf2.predict(X_test_new)\n",
    "print('R2 on test set: ', round(rf2.score(X_test_new, Y_test),2))\n",
    "print('RMSLE on test set: ', round(rmsle(Y_test, y_pred2),2))\n"
   ]
  },
  {
   "cell_type": "markdown",
   "metadata": {},
   "source": [
    "#### Conclusion\n",
    "- Accuracy score (r2 score) and the RMSLE - with and without the variable selection: we observe that the value for our main evaluation metric RMSLE is only marginally higher (Delta = 0.01) for the model trained with the subset of selected variables **(R2=0.89, RMSLE=0.14)** compared to the model with entire set **(R2= 0.89, RMSLE = 0.13)**. This is a very small difference, so we can conclude that the model trained with the subset of variables is as good as the one trained with the full set of variables. This is a very good result, as it means that we can use a model with less variables, which is easier to interpret and less prone to overfitting, without losing performance.\n",
    "\n",
    "- Comparison with Milestone 2: In our previous milestone we explored linear regression models - with and without regularization. In case of without regularization, we obtained R2 of -ve inf and RMSLE couldn't be calculated. In case of ElasticNet regularization, we obtained an **R2 of 0.76** and an **RMSLE of 0.16**. We can cocnlude that our random forest model performs better than the ElasticNet model because even the RMSLE for RF is only marginally higher, the R2 is significantly improved with RF."
   ]
  },
  {
   "cell_type": "markdown",
   "metadata": {},
   "source": [
    "### References\n",
    "Kristin K. Nicodemus, Letter to the Editor: On the stability and ranking of predictors from random forest variable importance measures, Briefings in Bioinformatics, Volume 12, Issue 4, July 2011, Pages 369–373, https://doi.org/10.1093/bib/bbr016\n",
    "\n",
    "Hastie, T., Tibshirani, R., & Friedman, J. (2009). The Elements of Statistical Learning: Data Mining, Inference, and Prediction. Springer. URL: https://link.springer.com/book/10.1007/978-0-387-84858-7\n",
    "\n",
    "Hong Han, Xiaoling Guo and Hua Yu, \"Variable selection using Mean Decrease Accuracy and Mean Decrease Gini based on Random Forest,\" 2016 7th IEEE International Conference on Software Engineering and Service Science (ICSESS), Beijing, 2016, pp. 219-224, doi: 10.1109/ICSESS.2016.7883053.\n",
    "\n",
    "Kursa, M. B., & Rudnicki, W. R. (2010). Feature Selection with the Boruta Package. Journal of Statistical Software, 36(11), 1 - 13. doi:http://dx.doi.org/10.18637/jss.v036.i11\n",
    "\n",
    "Samo, K. (2022, January 3). Effective Feature Selection. Retrieved from https://blog.kxy.ai/effective-feature-selection/index.html#limits\n"
   ]
  }
 ],
 "metadata": {
  "kernelspec": {
   "display_name": "scientific",
   "language": "python",
   "name": "python3"
  },
  "language_info": {
   "codemirror_mode": {
    "name": "ipython",
    "version": 3
   },
   "file_extension": ".py",
   "mimetype": "text/x-python",
   "name": "python",
   "nbconvert_exporter": "python",
   "pygments_lexer": "ipython3",
   "version": "3.11.4"
  }
 },
 "nbformat": 4,
 "nbformat_minor": 2
}
