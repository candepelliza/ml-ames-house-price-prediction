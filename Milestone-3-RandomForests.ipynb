{
 "cells": [
  {
   "cell_type": "markdown",
   "metadata": {},
   "source": [
    "# Milestone - Random Forets"
   ]
  },
  {
   "cell_type": "markdown",
   "metadata": {},
   "source": [
    "## Part 1 - Feedback responses (only if required)"
   ]
  },
  {
   "cell_type": "markdown",
   "metadata": {},
   "source": [
    "## Part 2 - Milestone 3"
   ]
  },
  {
   "cell_type": "markdown",
   "metadata": {},
   "source": [
    "### 1. Hyperparameter tuning\n",
    "Recall what are the two most important hyperparameters. Propose a protocol that relies on the out-of-bag (OOB) error to tune this hyperparameter."
   ]
  },
  {
   "cell_type": "code",
   "execution_count": null,
   "metadata": {},
   "outputs": [],
   "source": []
  },
  {
   "cell_type": "markdown",
   "metadata": {},
   "source": [
    "### 2. Measure the importance of variables\n",
    "For the calibrated model, measure the importance of each variable. Justify the choice of the importance measure (why did you use this importance measure instead of another one?). Comment on the results: according to the importance measure you chose, what are the most discriminant variables of your dataset?\n",
    "Interpret."
   ]
  },
  {
   "cell_type": "code",
   "execution_count": null,
   "metadata": {},
   "outputs": [],
   "source": []
  },
  {
   "cell_type": "markdown",
   "metadata": {},
   "source": [
    "### 3. Variable selection\n",
    "Based on the feature importance analysis (previous question), conduct a selection of variables using one\n",
    "of the strategies described during the lecture. Justify your choice and recall how the selected technique\n",
    "works. Implement and run it. What is the final number of selected variables in the model? Justify if you\n",
    "need to recalibrate the forest or not."
   ]
  },
  {
   "cell_type": "code",
   "execution_count": null,
   "metadata": {},
   "outputs": [],
   "source": []
  },
  {
   "cell_type": "markdown",
   "metadata": {},
   "source": [
    "### 4. Evaluate test performance\n",
    "Evaluate the test performance of the two random forest models (based on the full set of variables or a subset) and determine the configuration of the best model (based on the main evaluation metric you selected in step 1)."
   ]
  },
  {
   "cell_type": "code",
   "execution_count": null,
   "metadata": {},
   "outputs": [],
   "source": []
  }
 ],
 "metadata": {
  "language_info": {
   "name": "python"
  }
 },
 "nbformat": 4,
 "nbformat_minor": 2
}
