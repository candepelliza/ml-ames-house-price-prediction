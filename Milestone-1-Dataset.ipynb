{
 "cells": [
  {
   "cell_type": "markdown",
   "metadata": {},
   "source": [
    "# Milestone-1: Data description and Exploratory Data Analysis"
   ]
  },
  {
   "cell_type": "markdown",
   "metadata": {},
   "source": [
    "This notebook corresponds to the first stage of the Machine Learning final project, as part of the Copernicus Master in Digital Earth, in the Data Science track at UBS.\n",
    "\n",
    "The project is focused on properties' price prediction for he city of Ames, Iowa, Us. The different steps and stages of the work are developed and documented in the notebook."
   ]
  },
  {
   "cell_type": "markdown",
   "metadata": {},
   "source": [
    "### Section 1: Literal description of the dataset"
   ]
  },
  {
   "cell_type": "markdown",
   "metadata": {},
   "source": [
    "##### 1.A. Dataset collection\n",
    "This project will be centered around properties' prices prediction, using a dataset from the city of Ames, Iowa, United States. This dataset was obtained from the [House Price - Advanced Regression Techniques](https://www.kaggle.com/competitions/house-prices-advanced-regression-techniques/data) from the website Kaggle. In there, the dataset is made available for the means of the competition, but with rights allowing to use it for academic purposes, as long as it is not made publicly available ([see section 7.A of copetition rules](https://www.kaggle.com/competitions/house-prices-advanced-regression-techniques/rules#7.-competition-data.)).\n",
    "\n",
    "##### 1.B. Meaning of the dataset\n",
    "The Ames' properties prices contains .. records of individual residential properties sold in Ames, IA from 2006 to 2010. Each record contains the selling price, and a group of 81 descriptive variables, related to different characteristics of the property, their environment and the selling transaction itself. All these attributes provide a detailed description of the operations and, together with the big amount of records, position the dataset as an excellent input for developing, training and testin diverse sources of Machine Learning models. \n",
    "Moreover, while the registers do not contain the exact location of the properties, they do include characteristics related to location and environment, such as neighbourhood, proximity to avenues and zonning. For this reason, the dataset is extremely interesting in geographic terms, as it allows us to analyse the impact of urban-spatial factors on property values.\n",
    "\n",
    "##### 1.C. Explanatory variables\n",
    "\n",
    "##### 1.D. Response variable"
   ]
  },
  {
   "cell_type": "markdown",
   "metadata": {},
   "source": [
    "### Section 2: Visual description of the dataset"
   ]
  },
  {
   "cell_type": "markdown",
   "metadata": {},
   "source": [
    "### Section 3: Statistical description of the dataset"
   ]
  },
  {
   "cell_type": "markdown",
   "metadata": {},
   "source": [
    "##### 3.A. Descriptive statistical analysis"
   ]
  },
  {
   "cell_type": "markdown",
   "metadata": {},
   "source": [
    "##### 3.B. Potential correlation"
   ]
  },
  {
   "cell_type": "markdown",
   "metadata": {},
   "source": [
    "##### 3.C. Potential pre-processing"
   ]
  },
  {
   "cell_type": "markdown",
   "metadata": {},
   "source": [
    "### Section 4: Proposed evaluation protocol"
   ]
  },
  {
   "cell_type": "markdown",
   "metadata": {},
   "source": [
    "##### 4.A. Protocol for perfomance assessment, tuning of hyperparameter, splitting of data"
   ]
  },
  {
   "cell_type": "markdown",
   "metadata": {},
   "source": [
    "##### 4.B. Evaluation metric"
   ]
  }
 ],
 "metadata": {
  "language_info": {
   "name": "python"
  }
 },
 "nbformat": 4,
 "nbformat_minor": 2
}
